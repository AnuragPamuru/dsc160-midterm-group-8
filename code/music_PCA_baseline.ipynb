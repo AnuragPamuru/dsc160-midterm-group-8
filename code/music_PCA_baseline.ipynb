{
 "cells": [
  {
   "cell_type": "code",
   "execution_count": 30,
   "metadata": {},
   "outputs": [],
   "source": [
    "import pandas as pd\n",
    "import numpy as np\n",
    "import matplotlib.pyplot as plt\n",
    "%matplotlib inline"
   ]
  },
  {
   "cell_type": "code",
   "execution_count": 31,
   "metadata": {},
   "outputs": [],
   "source": [
    "fp = '../data/full_data.csv'"
   ]
  },
  {
   "cell_type": "code",
   "execution_count": 64,
   "metadata": {},
   "outputs": [],
   "source": [
    "musics = pd.read_csv(fp).iloc[:, 1:].sort_values(by = 'year')"
   ]
  },
  {
   "cell_type": "code",
   "execution_count": 65,
   "metadata": {},
   "outputs": [
    {
     "data": {
      "text/html": [
       "<div>\n",
       "<style scoped>\n",
       "    .dataframe tbody tr th:only-of-type {\n",
       "        vertical-align: middle;\n",
       "    }\n",
       "\n",
       "    .dataframe tbody tr th {\n",
       "        vertical-align: top;\n",
       "    }\n",
       "\n",
       "    .dataframe thead th {\n",
       "        text-align: right;\n",
       "    }\n",
       "</style>\n",
       "<table border=\"1\" class=\"dataframe\">\n",
       "  <thead>\n",
       "    <tr style=\"text-align: right;\">\n",
       "      <th></th>\n",
       "      <th>album</th>\n",
       "      <th>artist</th>\n",
       "      <th>id</th>\n",
       "      <th>title</th>\n",
       "      <th>year</th>\n",
       "      <th>file</th>\n",
       "      <th>mfcc_0</th>\n",
       "      <th>mfcc_1</th>\n",
       "      <th>mfcc_2</th>\n",
       "      <th>mfcc_3</th>\n",
       "      <th>...</th>\n",
       "      <th>bandwidth</th>\n",
       "      <th>centroid</th>\n",
       "      <th>rolloff</th>\n",
       "      <th>acousticness</th>\n",
       "      <th>danceability</th>\n",
       "      <th>energy</th>\n",
       "      <th>loudness</th>\n",
       "      <th>speechiness</th>\n",
       "      <th>tempo</th>\n",
       "      <th>valence</th>\n",
       "    </tr>\n",
       "  </thead>\n",
       "  <tbody>\n",
       "    <tr>\n",
       "      <th>0</th>\n",
       "      <td>The Sugarhill Gang</td>\n",
       "      <td>The Sugarhill Gang</td>\n",
       "      <td>1FnxNtKli7rcB9IU4J8MEg</td>\n",
       "      <td>Rapper's Delight</td>\n",
       "      <td>1980</td>\n",
       "      <td>./data/Rapper's Delight.mp3</td>\n",
       "      <td>1.890811e-08</td>\n",
       "      <td>-3.804202e-07</td>\n",
       "      <td>-2.639254e-07</td>\n",
       "      <td>-6.431760e-08</td>\n",
       "      <td>...</td>\n",
       "      <td>2932.269422</td>\n",
       "      <td>3271.149826</td>\n",
       "      <td>6835.888420</td>\n",
       "      <td>0.2200</td>\n",
       "      <td>0.905</td>\n",
       "      <td>0.692</td>\n",
       "      <td>-14.143</td>\n",
       "      <td>0.199</td>\n",
       "      <td>111.292</td>\n",
       "      <td>0.943</td>\n",
       "    </tr>\n",
       "    <tr>\n",
       "      <th>1</th>\n",
       "      <td>Kurtis Blow</td>\n",
       "      <td>Kurtis Blow</td>\n",
       "      <td>5TvcggVu3s2P1fMAS8BupX</td>\n",
       "      <td>The Breaks</td>\n",
       "      <td>1980</td>\n",
       "      <td>./data/The Breaks.mp3</td>\n",
       "      <td>1.057499e-07</td>\n",
       "      <td>6.933380e-08</td>\n",
       "      <td>-1.520881e-07</td>\n",
       "      <td>-3.618482e-07</td>\n",
       "      <td>...</td>\n",
       "      <td>2574.581462</td>\n",
       "      <td>2369.193568</td>\n",
       "      <td>5234.249962</td>\n",
       "      <td>0.0987</td>\n",
       "      <td>0.910</td>\n",
       "      <td>0.576</td>\n",
       "      <td>-13.256</td>\n",
       "      <td>0.109</td>\n",
       "      <td>112.877</td>\n",
       "      <td>0.907</td>\n",
       "    </tr>\n",
       "    <tr>\n",
       "      <th>2</th>\n",
       "      <td>8th Wonder</td>\n",
       "      <td>The Sugarhill Gang</td>\n",
       "      <td>4UCkX8nrBlpxjrrEqtb46a</td>\n",
       "      <td>Apache</td>\n",
       "      <td>1981</td>\n",
       "      <td>./data/Apache.mp3</td>\n",
       "      <td>-1.414954e-07</td>\n",
       "      <td>1.606020e-08</td>\n",
       "      <td>-4.006917e-08</td>\n",
       "      <td>-1.196751e-08</td>\n",
       "      <td>...</td>\n",
       "      <td>2535.741911</td>\n",
       "      <td>2907.329677</td>\n",
       "      <td>5791.839284</td>\n",
       "      <td>0.3320</td>\n",
       "      <td>0.827</td>\n",
       "      <td>0.928</td>\n",
       "      <td>-7.266</td>\n",
       "      <td>0.133</td>\n",
       "      <td>115.023</td>\n",
       "      <td>0.261</td>\n",
       "    </tr>\n",
       "    <tr>\n",
       "      <th>3</th>\n",
       "      <td>8th Wonder</td>\n",
       "      <td>The Sugarhill Gang</td>\n",
       "      <td>6m0wOLtrzaNwMofVVJTJqs</td>\n",
       "      <td>8th Wonder</td>\n",
       "      <td>1981</td>\n",
       "      <td>./data/8th Wonder.mp3</td>\n",
       "      <td>3.262833e-07</td>\n",
       "      <td>-1.683564e-08</td>\n",
       "      <td>-7.625627e-08</td>\n",
       "      <td>-1.203945e-07</td>\n",
       "      <td>...</td>\n",
       "      <td>2537.327894</td>\n",
       "      <td>3135.834750</td>\n",
       "      <td>5981.420399</td>\n",
       "      <td>0.2980</td>\n",
       "      <td>0.871</td>\n",
       "      <td>0.937</td>\n",
       "      <td>-8.536</td>\n",
       "      <td>0.195</td>\n",
       "      <td>106.494</td>\n",
       "      <td>0.675</td>\n",
       "    </tr>\n",
       "    <tr>\n",
       "      <th>4</th>\n",
       "      <td>Planet Rock</td>\n",
       "      <td>Afrika Bambaataa</td>\n",
       "      <td>3uy0jtkM8QYVTsBazkli1x</td>\n",
       "      <td>Planet Rock</td>\n",
       "      <td>1982</td>\n",
       "      <td>./data/Planet Rock.mp3</td>\n",
       "      <td>-8.671024e-08</td>\n",
       "      <td>7.907207e-08</td>\n",
       "      <td>-5.019072e-08</td>\n",
       "      <td>-2.139210e-08</td>\n",
       "      <td>...</td>\n",
       "      <td>2803.020324</td>\n",
       "      <td>3522.282559</td>\n",
       "      <td>6855.145450</td>\n",
       "      <td>0.0110</td>\n",
       "      <td>0.915</td>\n",
       "      <td>0.807</td>\n",
       "      <td>-9.636</td>\n",
       "      <td>0.130</td>\n",
       "      <td>127.350</td>\n",
       "      <td>0.708</td>\n",
       "    </tr>\n",
       "  </tbody>\n",
       "</table>\n",
       "<p>5 rows × 41 columns</p>\n",
       "</div>"
      ],
      "text/plain": [
       "                album              artist                      id  \\\n",
       "0  The Sugarhill Gang  The Sugarhill Gang  1FnxNtKli7rcB9IU4J8MEg   \n",
       "1         Kurtis Blow         Kurtis Blow  5TvcggVu3s2P1fMAS8BupX   \n",
       "2          8th Wonder  The Sugarhill Gang  4UCkX8nrBlpxjrrEqtb46a   \n",
       "3          8th Wonder  The Sugarhill Gang  6m0wOLtrzaNwMofVVJTJqs   \n",
       "4         Planet Rock    Afrika Bambaataa  3uy0jtkM8QYVTsBazkli1x   \n",
       "\n",
       "              title  year                         file        mfcc_0  \\\n",
       "0  Rapper's Delight  1980  ./data/Rapper's Delight.mp3  1.890811e-08   \n",
       "1        The Breaks  1980        ./data/The Breaks.mp3  1.057499e-07   \n",
       "2            Apache  1981            ./data/Apache.mp3 -1.414954e-07   \n",
       "3        8th Wonder  1981        ./data/8th Wonder.mp3  3.262833e-07   \n",
       "4       Planet Rock  1982       ./data/Planet Rock.mp3 -8.671024e-08   \n",
       "\n",
       "         mfcc_1        mfcc_2        mfcc_3  ...    bandwidth     centroid  \\\n",
       "0 -3.804202e-07 -2.639254e-07 -6.431760e-08  ...  2932.269422  3271.149826   \n",
       "1  6.933380e-08 -1.520881e-07 -3.618482e-07  ...  2574.581462  2369.193568   \n",
       "2  1.606020e-08 -4.006917e-08 -1.196751e-08  ...  2535.741911  2907.329677   \n",
       "3 -1.683564e-08 -7.625627e-08 -1.203945e-07  ...  2537.327894  3135.834750   \n",
       "4  7.907207e-08 -5.019072e-08 -2.139210e-08  ...  2803.020324  3522.282559   \n",
       "\n",
       "       rolloff  acousticness  danceability  energy  loudness  speechiness  \\\n",
       "0  6835.888420        0.2200         0.905   0.692   -14.143        0.199   \n",
       "1  5234.249962        0.0987         0.910   0.576   -13.256        0.109   \n",
       "2  5791.839284        0.3320         0.827   0.928    -7.266        0.133   \n",
       "3  5981.420399        0.2980         0.871   0.937    -8.536        0.195   \n",
       "4  6855.145450        0.0110         0.915   0.807    -9.636        0.130   \n",
       "\n",
       "     tempo  valence  \n",
       "0  111.292    0.943  \n",
       "1  112.877    0.907  \n",
       "2  115.023    0.261  \n",
       "3  106.494    0.675  \n",
       "4  127.350    0.708  \n",
       "\n",
       "[5 rows x 41 columns]"
      ]
     },
     "execution_count": 65,
     "metadata": {},
     "output_type": "execute_result"
    }
   ],
   "source": [
    "musics.head()"
   ]
  },
  {
   "cell_type": "code",
   "execution_count": 66,
   "metadata": {},
   "outputs": [
    {
     "data": {
      "text/html": [
       "<div>\n",
       "<style scoped>\n",
       "    .dataframe tbody tr th:only-of-type {\n",
       "        vertical-align: middle;\n",
       "    }\n",
       "\n",
       "    .dataframe tbody tr th {\n",
       "        vertical-align: top;\n",
       "    }\n",
       "\n",
       "    .dataframe thead th {\n",
       "        text-align: right;\n",
       "    }\n",
       "</style>\n",
       "<table border=\"1\" class=\"dataframe\">\n",
       "  <thead>\n",
       "    <tr style=\"text-align: right;\">\n",
       "      <th></th>\n",
       "      <th>mfcc_0</th>\n",
       "      <th>mfcc_1</th>\n",
       "      <th>mfcc_2</th>\n",
       "      <th>mfcc_3</th>\n",
       "      <th>mfcc_4</th>\n",
       "      <th>mfcc_5</th>\n",
       "      <th>mfcc_6</th>\n",
       "      <th>mfcc_7</th>\n",
       "      <th>mfcc_8</th>\n",
       "      <th>mfcc_9</th>\n",
       "      <th>...</th>\n",
       "      <th>bandwidth</th>\n",
       "      <th>centroid</th>\n",
       "      <th>rolloff</th>\n",
       "      <th>acousticness</th>\n",
       "      <th>danceability</th>\n",
       "      <th>energy</th>\n",
       "      <th>loudness</th>\n",
       "      <th>speechiness</th>\n",
       "      <th>tempo</th>\n",
       "      <th>valence</th>\n",
       "    </tr>\n",
       "  </thead>\n",
       "  <tbody>\n",
       "    <tr>\n",
       "      <th>0</th>\n",
       "      <td>1.890811e-08</td>\n",
       "      <td>-3.804202e-07</td>\n",
       "      <td>-2.639254e-07</td>\n",
       "      <td>-6.431760e-08</td>\n",
       "      <td>-1.080152e-07</td>\n",
       "      <td>-1.781040e-08</td>\n",
       "      <td>-4.801459e-08</td>\n",
       "      <td>7.261296e-08</td>\n",
       "      <td>1.197785e-07</td>\n",
       "      <td>8.293486e-08</td>\n",
       "      <td>...</td>\n",
       "      <td>2932.269422</td>\n",
       "      <td>3271.149826</td>\n",
       "      <td>6835.888420</td>\n",
       "      <td>0.2200</td>\n",
       "      <td>0.905</td>\n",
       "      <td>0.692</td>\n",
       "      <td>-14.143</td>\n",
       "      <td>0.199</td>\n",
       "      <td>111.292</td>\n",
       "      <td>0.943</td>\n",
       "    </tr>\n",
       "    <tr>\n",
       "      <th>1</th>\n",
       "      <td>1.057499e-07</td>\n",
       "      <td>6.933380e-08</td>\n",
       "      <td>-1.520881e-07</td>\n",
       "      <td>-3.618482e-07</td>\n",
       "      <td>6.409503e-08</td>\n",
       "      <td>1.053390e-07</td>\n",
       "      <td>1.140600e-07</td>\n",
       "      <td>1.873398e-07</td>\n",
       "      <td>-1.244921e-07</td>\n",
       "      <td>1.064396e-07</td>\n",
       "      <td>...</td>\n",
       "      <td>2574.581462</td>\n",
       "      <td>2369.193568</td>\n",
       "      <td>5234.249962</td>\n",
       "      <td>0.0987</td>\n",
       "      <td>0.910</td>\n",
       "      <td>0.576</td>\n",
       "      <td>-13.256</td>\n",
       "      <td>0.109</td>\n",
       "      <td>112.877</td>\n",
       "      <td>0.907</td>\n",
       "    </tr>\n",
       "    <tr>\n",
       "      <th>2</th>\n",
       "      <td>-1.414954e-07</td>\n",
       "      <td>1.606020e-08</td>\n",
       "      <td>-4.006917e-08</td>\n",
       "      <td>-1.196751e-08</td>\n",
       "      <td>2.808909e-07</td>\n",
       "      <td>-8.390938e-08</td>\n",
       "      <td>2.251238e-07</td>\n",
       "      <td>-1.769062e-08</td>\n",
       "      <td>-3.454570e-08</td>\n",
       "      <td>1.500061e-07</td>\n",
       "      <td>...</td>\n",
       "      <td>2535.741911</td>\n",
       "      <td>2907.329677</td>\n",
       "      <td>5791.839284</td>\n",
       "      <td>0.3320</td>\n",
       "      <td>0.827</td>\n",
       "      <td>0.928</td>\n",
       "      <td>-7.266</td>\n",
       "      <td>0.133</td>\n",
       "      <td>115.023</td>\n",
       "      <td>0.261</td>\n",
       "    </tr>\n",
       "    <tr>\n",
       "      <th>3</th>\n",
       "      <td>3.262833e-07</td>\n",
       "      <td>-1.683564e-08</td>\n",
       "      <td>-7.625627e-08</td>\n",
       "      <td>-1.203945e-07</td>\n",
       "      <td>-3.800182e-08</td>\n",
       "      <td>8.758165e-09</td>\n",
       "      <td>1.395069e-08</td>\n",
       "      <td>-2.490945e-07</td>\n",
       "      <td>-9.116444e-08</td>\n",
       "      <td>-1.617007e-07</td>\n",
       "      <td>...</td>\n",
       "      <td>2537.327894</td>\n",
       "      <td>3135.834750</td>\n",
       "      <td>5981.420399</td>\n",
       "      <td>0.2980</td>\n",
       "      <td>0.871</td>\n",
       "      <td>0.937</td>\n",
       "      <td>-8.536</td>\n",
       "      <td>0.195</td>\n",
       "      <td>106.494</td>\n",
       "      <td>0.675</td>\n",
       "    </tr>\n",
       "    <tr>\n",
       "      <th>4</th>\n",
       "      <td>-8.671024e-08</td>\n",
       "      <td>7.907207e-08</td>\n",
       "      <td>-5.019072e-08</td>\n",
       "      <td>-2.139210e-08</td>\n",
       "      <td>-3.428748e-08</td>\n",
       "      <td>-3.504222e-08</td>\n",
       "      <td>-1.334006e-08</td>\n",
       "      <td>3.385281e-07</td>\n",
       "      <td>-5.309370e-08</td>\n",
       "      <td>-7.372620e-08</td>\n",
       "      <td>...</td>\n",
       "      <td>2803.020324</td>\n",
       "      <td>3522.282559</td>\n",
       "      <td>6855.145450</td>\n",
       "      <td>0.0110</td>\n",
       "      <td>0.915</td>\n",
       "      <td>0.807</td>\n",
       "      <td>-9.636</td>\n",
       "      <td>0.130</td>\n",
       "      <td>127.350</td>\n",
       "      <td>0.708</td>\n",
       "    </tr>\n",
       "  </tbody>\n",
       "</table>\n",
       "<p>5 rows × 35 columns</p>\n",
       "</div>"
      ],
      "text/plain": [
       "         mfcc_0        mfcc_1        mfcc_2        mfcc_3        mfcc_4  \\\n",
       "0  1.890811e-08 -3.804202e-07 -2.639254e-07 -6.431760e-08 -1.080152e-07   \n",
       "1  1.057499e-07  6.933380e-08 -1.520881e-07 -3.618482e-07  6.409503e-08   \n",
       "2 -1.414954e-07  1.606020e-08 -4.006917e-08 -1.196751e-08  2.808909e-07   \n",
       "3  3.262833e-07 -1.683564e-08 -7.625627e-08 -1.203945e-07 -3.800182e-08   \n",
       "4 -8.671024e-08  7.907207e-08 -5.019072e-08 -2.139210e-08 -3.428748e-08   \n",
       "\n",
       "         mfcc_5        mfcc_6        mfcc_7        mfcc_8        mfcc_9  ...  \\\n",
       "0 -1.781040e-08 -4.801459e-08  7.261296e-08  1.197785e-07  8.293486e-08  ...   \n",
       "1  1.053390e-07  1.140600e-07  1.873398e-07 -1.244921e-07  1.064396e-07  ...   \n",
       "2 -8.390938e-08  2.251238e-07 -1.769062e-08 -3.454570e-08  1.500061e-07  ...   \n",
       "3  8.758165e-09  1.395069e-08 -2.490945e-07 -9.116444e-08 -1.617007e-07  ...   \n",
       "4 -3.504222e-08 -1.334006e-08  3.385281e-07 -5.309370e-08 -7.372620e-08  ...   \n",
       "\n",
       "     bandwidth     centroid      rolloff  acousticness  danceability  energy  \\\n",
       "0  2932.269422  3271.149826  6835.888420        0.2200         0.905   0.692   \n",
       "1  2574.581462  2369.193568  5234.249962        0.0987         0.910   0.576   \n",
       "2  2535.741911  2907.329677  5791.839284        0.3320         0.827   0.928   \n",
       "3  2537.327894  3135.834750  5981.420399        0.2980         0.871   0.937   \n",
       "4  2803.020324  3522.282559  6855.145450        0.0110         0.915   0.807   \n",
       "\n",
       "   loudness  speechiness    tempo  valence  \n",
       "0   -14.143        0.199  111.292    0.943  \n",
       "1   -13.256        0.109  112.877    0.907  \n",
       "2    -7.266        0.133  115.023    0.261  \n",
       "3    -8.536        0.195  106.494    0.675  \n",
       "4    -9.636        0.130  127.350    0.708  \n",
       "\n",
       "[5 rows x 35 columns]"
      ]
     },
     "execution_count": 66,
     "metadata": {},
     "output_type": "execute_result"
    }
   ],
   "source": [
    "music_features = musics.drop(['artist', 'id', 'title', 'album', 'file', 'year'],axis = 1)\n",
    "music_features.head()"
   ]
  },
  {
   "cell_type": "code",
   "execution_count": 67,
   "metadata": {},
   "outputs": [
    {
     "data": {
      "text/html": [
       "<div>\n",
       "<style scoped>\n",
       "    .dataframe tbody tr th:only-of-type {\n",
       "        vertical-align: middle;\n",
       "    }\n",
       "\n",
       "    .dataframe tbody tr th {\n",
       "        vertical-align: top;\n",
       "    }\n",
       "\n",
       "    .dataframe thead th {\n",
       "        text-align: right;\n",
       "    }\n",
       "</style>\n",
       "<table border=\"1\" class=\"dataframe\">\n",
       "  <thead>\n",
       "    <tr style=\"text-align: right;\">\n",
       "      <th></th>\n",
       "      <th>mfcc_0</th>\n",
       "      <th>mfcc_1</th>\n",
       "      <th>mfcc_2</th>\n",
       "      <th>mfcc_3</th>\n",
       "      <th>mfcc_4</th>\n",
       "      <th>mfcc_5</th>\n",
       "      <th>mfcc_6</th>\n",
       "      <th>mfcc_7</th>\n",
       "      <th>mfcc_8</th>\n",
       "      <th>mfcc_9</th>\n",
       "      <th>...</th>\n",
       "      <th>bandwidth</th>\n",
       "      <th>centroid</th>\n",
       "      <th>rolloff</th>\n",
       "      <th>acousticness</th>\n",
       "      <th>danceability</th>\n",
       "      <th>energy</th>\n",
       "      <th>loudness</th>\n",
       "      <th>speechiness</th>\n",
       "      <th>tempo</th>\n",
       "      <th>valence</th>\n",
       "    </tr>\n",
       "  </thead>\n",
       "  <tbody>\n",
       "    <tr>\n",
       "      <th>0</th>\n",
       "      <td>0.337411</td>\n",
       "      <td>-3.042355</td>\n",
       "      <td>-1.487090</td>\n",
       "      <td>-0.526804</td>\n",
       "      <td>-0.818746</td>\n",
       "      <td>-0.209644</td>\n",
       "      <td>-0.033679</td>\n",
       "      <td>0.264458</td>\n",
       "      <td>1.105131</td>\n",
       "      <td>0.285170</td>\n",
       "      <td>...</td>\n",
       "      <td>1.831385</td>\n",
       "      <td>1.648694</td>\n",
       "      <td>1.825219</td>\n",
       "      <td>0.570156</td>\n",
       "      <td>0.960676</td>\n",
       "      <td>0.107638</td>\n",
       "      <td>-2.213477</td>\n",
       "      <td>0.151679</td>\n",
       "      <td>-0.025229</td>\n",
       "      <td>1.607493</td>\n",
       "    </tr>\n",
       "    <tr>\n",
       "      <th>1</th>\n",
       "      <td>0.755278</td>\n",
       "      <td>0.733466</td>\n",
       "      <td>-0.797838</td>\n",
       "      <td>-2.261414</td>\n",
       "      <td>0.654395</td>\n",
       "      <td>0.737641</td>\n",
       "      <td>0.453069</td>\n",
       "      <td>0.716190</td>\n",
       "      <td>-0.878304</td>\n",
       "      <td>0.374930</td>\n",
       "      <td>...</td>\n",
       "      <td>0.340936</td>\n",
       "      <td>-0.267461</td>\n",
       "      <td>0.025023</td>\n",
       "      <td>-0.210168</td>\n",
       "      <td>1.000089</td>\n",
       "      <td>-0.640588</td>\n",
       "      <td>-1.930445</td>\n",
       "      <td>-0.759154</td>\n",
       "      <td>0.031555</td>\n",
       "      <td>1.442061</td>\n",
       "    </tr>\n",
       "    <tr>\n",
       "      <th>2</th>\n",
       "      <td>-0.434424</td>\n",
       "      <td>0.286218</td>\n",
       "      <td>-0.107467</td>\n",
       "      <td>-0.221602</td>\n",
       "      <td>2.510013</td>\n",
       "      <td>-0.718088</td>\n",
       "      <td>0.786618</td>\n",
       "      <td>-0.091109</td>\n",
       "      <td>-0.147954</td>\n",
       "      <td>0.541304</td>\n",
       "      <td>...</td>\n",
       "      <td>0.179096</td>\n",
       "      <td>0.875779</td>\n",
       "      <td>0.651737</td>\n",
       "      <td>1.290654</td>\n",
       "      <td>0.345844</td>\n",
       "      <td>1.629890</td>\n",
       "      <td>-0.019102</td>\n",
       "      <td>-0.516265</td>\n",
       "      <td>0.108438</td>\n",
       "      <td>-1.526519</td>\n",
       "    </tr>\n",
       "    <tr>\n",
       "      <th>3</th>\n",
       "      <td>1.816447</td>\n",
       "      <td>0.010047</td>\n",
       "      <td>-0.330488</td>\n",
       "      <td>-0.853733</td>\n",
       "      <td>-0.219481</td>\n",
       "      <td>-0.005274</td>\n",
       "      <td>0.152417</td>\n",
       "      <td>-1.002252</td>\n",
       "      <td>-0.607689</td>\n",
       "      <td>-0.649053</td>\n",
       "      <td>...</td>\n",
       "      <td>0.185705</td>\n",
       "      <td>1.361225</td>\n",
       "      <td>0.864821</td>\n",
       "      <td>1.071931</td>\n",
       "      <td>0.692672</td>\n",
       "      <td>1.687942</td>\n",
       "      <td>-0.424345</td>\n",
       "      <td>0.111198</td>\n",
       "      <td>-0.197123</td>\n",
       "      <td>0.375945</td>\n",
       "    </tr>\n",
       "    <tr>\n",
       "      <th>4</th>\n",
       "      <td>-0.170807</td>\n",
       "      <td>0.815221</td>\n",
       "      <td>-0.169846</td>\n",
       "      <td>-0.276547</td>\n",
       "      <td>-0.187689</td>\n",
       "      <td>-0.342194</td>\n",
       "      <td>0.070457</td>\n",
       "      <td>1.311488</td>\n",
       "      <td>-0.298561</td>\n",
       "      <td>-0.313093</td>\n",
       "      <td>...</td>\n",
       "      <td>1.292817</td>\n",
       "      <td>2.182212</td>\n",
       "      <td>1.846864</td>\n",
       "      <td>-0.774344</td>\n",
       "      <td>1.039501</td>\n",
       "      <td>0.849413</td>\n",
       "      <td>-0.775343</td>\n",
       "      <td>-0.546626</td>\n",
       "      <td>0.550068</td>\n",
       "      <td>0.527591</td>\n",
       "    </tr>\n",
       "  </tbody>\n",
       "</table>\n",
       "<p>5 rows × 35 columns</p>\n",
       "</div>"
      ],
      "text/plain": [
       "     mfcc_0    mfcc_1    mfcc_2    mfcc_3    mfcc_4    mfcc_5    mfcc_6  \\\n",
       "0  0.337411 -3.042355 -1.487090 -0.526804 -0.818746 -0.209644 -0.033679   \n",
       "1  0.755278  0.733466 -0.797838 -2.261414  0.654395  0.737641  0.453069   \n",
       "2 -0.434424  0.286218 -0.107467 -0.221602  2.510013 -0.718088  0.786618   \n",
       "3  1.816447  0.010047 -0.330488 -0.853733 -0.219481 -0.005274  0.152417   \n",
       "4 -0.170807  0.815221 -0.169846 -0.276547 -0.187689 -0.342194  0.070457   \n",
       "\n",
       "     mfcc_7    mfcc_8    mfcc_9  ...  bandwidth  centroid   rolloff  \\\n",
       "0  0.264458  1.105131  0.285170  ...   1.831385  1.648694  1.825219   \n",
       "1  0.716190 -0.878304  0.374930  ...   0.340936 -0.267461  0.025023   \n",
       "2 -0.091109 -0.147954  0.541304  ...   0.179096  0.875779  0.651737   \n",
       "3 -1.002252 -0.607689 -0.649053  ...   0.185705  1.361225  0.864821   \n",
       "4  1.311488 -0.298561 -0.313093  ...   1.292817  2.182212  1.846864   \n",
       "\n",
       "   acousticness  danceability    energy  loudness  speechiness     tempo  \\\n",
       "0      0.570156      0.960676  0.107638 -2.213477     0.151679 -0.025229   \n",
       "1     -0.210168      1.000089 -0.640588 -1.930445    -0.759154  0.031555   \n",
       "2      1.290654      0.345844  1.629890 -0.019102    -0.516265  0.108438   \n",
       "3      1.071931      0.692672  1.687942 -0.424345     0.111198 -0.197123   \n",
       "4     -0.774344      1.039501  0.849413 -0.775343    -0.546626  0.550068   \n",
       "\n",
       "    valence  \n",
       "0  1.607493  \n",
       "1  1.442061  \n",
       "2 -1.526519  \n",
       "3  0.375945  \n",
       "4  0.527591  \n",
       "\n",
       "[5 rows x 35 columns]"
      ]
     },
     "execution_count": 67,
     "metadata": {},
     "output_type": "execute_result"
    }
   ],
   "source": [
    "music_features_su = music_features.apply(lambda x: (x - x.mean())/x.std())\n",
    "music_features_su.head()"
   ]
  },
  {
   "cell_type": "code",
   "execution_count": 68,
   "metadata": {},
   "outputs": [],
   "source": [
    "from sklearn.decomposition import PCA"
   ]
  },
  {
   "cell_type": "code",
   "execution_count": 69,
   "metadata": {},
   "outputs": [],
   "source": [
    "pca = PCA(n_components=2)"
   ]
  },
  {
   "cell_type": "code",
   "execution_count": 70,
   "metadata": {},
   "outputs": [],
   "source": [
    "reduced_dim = pca.fit_transform(music_features_su)"
   ]
  },
  {
   "cell_type": "code",
   "execution_count": 78,
   "metadata": {},
   "outputs": [],
   "source": [
    "music_reduced = pd.DataFrame(reduced_dim)\n",
    "music_reduced.columns = [f'pca_feature{i + 1}' for i in range(2)]\n",
    "music_reduced['name'] = musics['title']\n",
    "music_reduced['year'] = musics['year']"
   ]
  },
  {
   "cell_type": "code",
   "execution_count": 79,
   "metadata": {},
   "outputs": [
    {
     "data": {
      "text/html": [
       "<div>\n",
       "<style scoped>\n",
       "    .dataframe tbody tr th:only-of-type {\n",
       "        vertical-align: middle;\n",
       "    }\n",
       "\n",
       "    .dataframe tbody tr th {\n",
       "        vertical-align: top;\n",
       "    }\n",
       "\n",
       "    .dataframe thead th {\n",
       "        text-align: right;\n",
       "    }\n",
       "</style>\n",
       "<table border=\"1\" class=\"dataframe\">\n",
       "  <thead>\n",
       "    <tr style=\"text-align: right;\">\n",
       "      <th></th>\n",
       "      <th>pca_feature1</th>\n",
       "      <th>pca_feature2</th>\n",
       "      <th>name</th>\n",
       "      <th>year</th>\n",
       "    </tr>\n",
       "  </thead>\n",
       "  <tbody>\n",
       "    <tr>\n",
       "      <th>0</th>\n",
       "      <td>0.570531</td>\n",
       "      <td>-2.573715</td>\n",
       "      <td>Rapper's Delight</td>\n",
       "      <td>1980</td>\n",
       "    </tr>\n",
       "    <tr>\n",
       "      <th>1</th>\n",
       "      <td>-0.717337</td>\n",
       "      <td>-0.848301</td>\n",
       "      <td>The Breaks</td>\n",
       "      <td>1980</td>\n",
       "    </tr>\n",
       "    <tr>\n",
       "      <th>2</th>\n",
       "      <td>-0.503183</td>\n",
       "      <td>-1.305737</td>\n",
       "      <td>Apache</td>\n",
       "      <td>1981</td>\n",
       "    </tr>\n",
       "    <tr>\n",
       "      <th>3</th>\n",
       "      <td>-1.534512</td>\n",
       "      <td>-1.842782</td>\n",
       "      <td>8th Wonder</td>\n",
       "      <td>1981</td>\n",
       "    </tr>\n",
       "    <tr>\n",
       "      <th>4</th>\n",
       "      <td>0.467788</td>\n",
       "      <td>-3.937306</td>\n",
       "      <td>Planet Rock</td>\n",
       "      <td>1982</td>\n",
       "    </tr>\n",
       "  </tbody>\n",
       "</table>\n",
       "</div>"
      ],
      "text/plain": [
       "   pca_feature1  pca_feature2              name  year\n",
       "0      0.570531     -2.573715  Rapper's Delight  1980\n",
       "1     -0.717337     -0.848301        The Breaks  1980\n",
       "2     -0.503183     -1.305737            Apache  1981\n",
       "3     -1.534512     -1.842782        8th Wonder  1981\n",
       "4      0.467788     -3.937306       Planet Rock  1982"
      ]
     },
     "execution_count": 79,
     "metadata": {},
     "output_type": "execute_result"
    }
   ],
   "source": [
    "music_reduced.head()"
   ]
  },
  {
   "cell_type": "code",
   "execution_count": 80,
   "metadata": {},
   "outputs": [
    {
     "data": {
      "text/plain": [
       "pca_feature1                  26.7996\n",
       "pca_feature2                -0.304011\n",
       "name            I Don't Fuck With You\n",
       "year                             2015\n",
       "Name: 71, dtype: object"
      ]
     },
     "execution_count": 80,
     "metadata": {},
     "output_type": "execute_result"
    }
   ],
   "source": [
    "music_reduced.loc[music_reduced['pca_feature1'].idxmax()]"
   ]
  },
  {
   "cell_type": "code",
   "execution_count": 73,
   "metadata": {},
   "outputs": [
    {
     "data": {
      "text/plain": [
       "<matplotlib.collections.PathCollection at 0x2ad0db99160>"
      ]
     },
     "execution_count": 73,
     "metadata": {},
     "output_type": "execute_result"
    },
    {
     "data": {
      "image/png": "[encoded data removed]",
      "text/plain": [
       "<Figure size 432x288 with 1 Axes>"
      ]
     },
     "metadata": {
      "needs_background": "light"
     },
     "output_type": "display_data"
    }
   ],
   "source": [
    "plt.scatter(x=music_reduced['pca_feature1'], y=music_reduced['pca_feature2'])"
   ]
  },
  {
   "cell_type": "code",
   "execution_count": 81,
   "metadata": {},
   "outputs": [],
   "source": [
    "music_reduced = music_reduced.drop(71)"
   ]
  },
  {
   "cell_type": "code",
   "execution_count": 84,
   "metadata": {},
   "outputs": [
    {
     "data": {
      "text/plain": [
       "<matplotlib.collections.PathCollection at 0x2ad0a511fd0>"
      ]
     },
     "execution_count": 84,
     "metadata": {},
     "output_type": "execute_result"
    },
    {
     "data": {
      "image/png": "[encoded data removed]",
      "text/plain": [
       "<Figure size 432x288 with 1 Axes>"
      ]
     },
     "metadata": {
      "needs_background": "light"
     },
     "output_type": "display_data"
    }
   ],
   "source": [
    "plt.xlabel('pca_dimension1')\n",
    "plt.ylabel('pca_dimension2')\n",
    "plt.scatter(x=music_reduced['pca_feature1'], y=music_reduced['pca_feature2'])"
   ]
  },
  {
   "cell_type": "code",
   "execution_count": 85,
   "metadata": {},
   "outputs": [],
   "source": [
    "from sklearn.cluster import KMeans"
   ]
  },
  {
   "cell_type": "code",
   "execution_count": 162,
   "metadata": {},
   "outputs": [],
   "source": [
    "kmeans = KMeans(n_clusters=4)"
   ]
  },
  {
   "cell_type": "code",
   "execution_count": 163,
   "metadata": {},
   "outputs": [
    {
     "data": {
      "text/plain": [
       "KMeans(algorithm='auto', copy_x=True, init='k-means++', max_iter=300,\n",
       "       n_clusters=4, n_init=10, n_jobs=None, precompute_distances='auto',\n",
       "       random_state=None, tol=0.0001, verbose=0)"
      ]
     },
     "execution_count": 163,
     "metadata": {},
     "output_type": "execute_result"
    }
   ],
   "source": [
    "kmeans.fit(music_reduced[[f'pca_feature{i + 1}' for i in range(2)]])"
   ]
  },
  {
   "cell_type": "code",
   "execution_count": 164,
   "metadata": {},
   "outputs": [],
   "source": [
    "music_reduced['group_kmeans'] = kmeans.labels_"
   ]
  },
  {
   "cell_type": "code",
   "execution_count": 165,
   "metadata": {},
   "outputs": [
    {
     "data": {
      "text/html": [
       "<div>\n",
       "<style scoped>\n",
       "    .dataframe tbody tr th:only-of-type {\n",
       "        vertical-align: middle;\n",
       "    }\n",
       "\n",
       "    .dataframe tbody tr th {\n",
       "        vertical-align: top;\n",
       "    }\n",
       "\n",
       "    .dataframe thead th {\n",
       "        text-align: right;\n",
       "    }\n",
       "</style>\n",
       "<table border=\"1\" class=\"dataframe\">\n",
       "  <thead>\n",
       "    <tr style=\"text-align: right;\">\n",
       "      <th></th>\n",
       "      <th>pca_feature1</th>\n",
       "      <th>pca_feature2</th>\n",
       "      <th>name</th>\n",
       "      <th>year</th>\n",
       "      <th>group_kmeans</th>\n",
       "    </tr>\n",
       "  </thead>\n",
       "  <tbody>\n",
       "    <tr>\n",
       "      <th>0</th>\n",
       "      <td>0.570531</td>\n",
       "      <td>-2.573715</td>\n",
       "      <td>Rapper's Delight</td>\n",
       "      <td>1980</td>\n",
       "      <td>1</td>\n",
       "    </tr>\n",
       "    <tr>\n",
       "      <th>1</th>\n",
       "      <td>-0.717337</td>\n",
       "      <td>-0.848301</td>\n",
       "      <td>The Breaks</td>\n",
       "      <td>1980</td>\n",
       "      <td>2</td>\n",
       "    </tr>\n",
       "    <tr>\n",
       "      <th>2</th>\n",
       "      <td>-0.503183</td>\n",
       "      <td>-1.305737</td>\n",
       "      <td>Apache</td>\n",
       "      <td>1981</td>\n",
       "      <td>2</td>\n",
       "    </tr>\n",
       "    <tr>\n",
       "      <th>3</th>\n",
       "      <td>-1.534512</td>\n",
       "      <td>-1.842782</td>\n",
       "      <td>8th Wonder</td>\n",
       "      <td>1981</td>\n",
       "      <td>1</td>\n",
       "    </tr>\n",
       "    <tr>\n",
       "      <th>4</th>\n",
       "      <td>0.467788</td>\n",
       "      <td>-3.937306</td>\n",
       "      <td>Planet Rock</td>\n",
       "      <td>1982</td>\n",
       "      <td>1</td>\n",
       "    </tr>\n",
       "  </tbody>\n",
       "</table>\n",
       "</div>"
      ],
      "text/plain": [
       "   pca_feature1  pca_feature2              name  year  group_kmeans\n",
       "0      0.570531     -2.573715  Rapper's Delight  1980             1\n",
       "1     -0.717337     -0.848301        The Breaks  1980             2\n",
       "2     -0.503183     -1.305737            Apache  1981             2\n",
       "3     -1.534512     -1.842782        8th Wonder  1981             1\n",
       "4      0.467788     -3.937306       Planet Rock  1982             1"
      ]
     },
     "execution_count": 165,
     "metadata": {},
     "output_type": "execute_result"
    }
   ],
   "source": [
    "music_reduced.head()"
   ]
  },
  {
   "cell_type": "code",
   "execution_count": 166,
   "metadata": {},
   "outputs": [],
   "source": [
    "grouped = music_reduced.groupby('group_kmeans')[[f'pca_feature{i + 1}' for i in range(2)]]"
   ]
  },
  {
   "cell_type": "code",
   "execution_count": 167,
   "metadata": {},
   "outputs": [
    {
     "data": {
      "image/png": "[encoded data removed]",
      "text/plain": [
       "<Figure size 432x288 with 1 Axes>"
      ]
     },
     "metadata": {
      "needs_background": "light"
     },
     "output_type": "display_data"
    }
   ],
   "source": [
    "for name, group in grouped:\n",
    "    plt.plot(group[\"pca_feature1\"], group[\"pca_feature2\"], marker=\"o\", linestyle=\"\", label=name)"
   ]
  },
  {
   "cell_type": "code",
   "execution_count": 172,
   "metadata": {},
   "outputs": [
    {
     "data": {
      "text/plain": [
       "<matplotlib.axes._subplots.AxesSubplot at 0x2ad7f34b2b0>"
      ]
     },
     "execution_count": 172,
     "metadata": {},
     "output_type": "execute_result"
    },
    {
     "data": {
      "image/png": "[encoded data removed]",
      "text/plain": [
       "<Figure size 432x288 with 1 Axes>"
      ]
     },
     "metadata": {
      "needs_background": "light"
     },
     "output_type": "display_data"
    }
   ],
   "source": [
    "music_reduced[['year', 'group_kmeans']].plot.scatter(x = 'year', y = 'group_kmeans')"
   ]
  },
  {
   "cell_type": "code",
   "execution_count": null,
   "metadata": {},
   "outputs": [],
   "source": []
  }
 ],
 "metadata": {
  "kernelspec": {
   "display_name": "Python 3",
   "language": "python",
   "name": "python3"
  },
  "language_info": {
   "codemirror_mode": {
    "name": "ipython",
    "version": 3
   },
   "file_extension": ".py",
   "mimetype": "text/x-python",
   "name": "python",
   "nbconvert_exporter": "python",
   "pygments_lexer": "ipython3",
   "version": "3.7.2"
  }
 },
 "nbformat": 4,
 "nbformat_minor": 2
}
