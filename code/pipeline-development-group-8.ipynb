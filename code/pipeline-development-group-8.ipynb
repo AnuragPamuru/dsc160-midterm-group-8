{
 "cells": [
  {
   "cell_type": "code",
   "execution_count": 5,
   "metadata": {},
   "outputs": [],
   "source": [
    "import pandas as pd\n",
    "import numpy as np\n",
    "import matplotlib.pyplot as plt\n",
    "import sklearn\n",
    "%matplotlib inline"
   ]
  },
  {
   "cell_type": "code",
   "execution_count": 2,
   "metadata": {},
   "outputs": [],
   "source": [
    "fp = '../data/full_data.csv'"
   ]
  },
  {
   "cell_type": "code",
   "execution_count": 3,
   "metadata": {},
   "outputs": [],
   "source": [
    "musics = pd.read_csv(fp).iloc[:, 1:].sort_values(by = 'year')"
   ]
  },
  {
   "cell_type": "code",
   "execution_count": 4,
   "metadata": {},
   "outputs": [
    {
     "data": {
      "text/html": [
       "<div>\n",
       "<style scoped>\n",
       "    .dataframe tbody tr th:only-of-type {\n",
       "        vertical-align: middle;\n",
       "    }\n",
       "\n",
       "    .dataframe tbody tr th {\n",
       "        vertical-align: top;\n",
       "    }\n",
       "\n",
       "    .dataframe thead th {\n",
       "        text-align: right;\n",
       "    }\n",
       "</style>\n",
       "<table border=\"1\" class=\"dataframe\">\n",
       "  <thead>\n",
       "    <tr style=\"text-align: right;\">\n",
       "      <th></th>\n",
       "      <th>album</th>\n",
       "      <th>artist</th>\n",
       "      <th>id</th>\n",
       "      <th>title</th>\n",
       "      <th>year</th>\n",
       "      <th>file</th>\n",
       "      <th>mfcc_0</th>\n",
       "      <th>mfcc_1</th>\n",
       "      <th>mfcc_2</th>\n",
       "      <th>mfcc_3</th>\n",
       "      <th>...</th>\n",
       "      <th>bandwidth</th>\n",
       "      <th>centroid</th>\n",
       "      <th>rolloff</th>\n",
       "      <th>acousticness</th>\n",
       "      <th>danceability</th>\n",
       "      <th>energy</th>\n",
       "      <th>loudness</th>\n",
       "      <th>speechiness</th>\n",
       "      <th>tempo</th>\n",
       "      <th>valence</th>\n",
       "    </tr>\n",
       "  </thead>\n",
       "  <tbody>\n",
       "    <tr>\n",
       "      <th>0</th>\n",
       "      <td>The Sugarhill Gang</td>\n",
       "      <td>The Sugarhill Gang</td>\n",
       "      <td>1FnxNtKli7rcB9IU4J8MEg</td>\n",
       "      <td>Rapper's Delight</td>\n",
       "      <td>1980</td>\n",
       "      <td>./data/Rapper's Delight.mp3</td>\n",
       "      <td>1.890811e-08</td>\n",
       "      <td>-3.804202e-07</td>\n",
       "      <td>-2.639254e-07</td>\n",
       "      <td>-6.431760e-08</td>\n",
       "      <td>...</td>\n",
       "      <td>2932.269422</td>\n",
       "      <td>3271.149826</td>\n",
       "      <td>6835.888420</td>\n",
       "      <td>0.2200</td>\n",
       "      <td>0.905</td>\n",
       "      <td>0.692</td>\n",
       "      <td>-14.143</td>\n",
       "      <td>0.199</td>\n",
       "      <td>111.292</td>\n",
       "      <td>0.943</td>\n",
       "    </tr>\n",
       "    <tr>\n",
       "      <th>1</th>\n",
       "      <td>Kurtis Blow</td>\n",
       "      <td>Kurtis Blow</td>\n",
       "      <td>5TvcggVu3s2P1fMAS8BupX</td>\n",
       "      <td>The Breaks</td>\n",
       "      <td>1980</td>\n",
       "      <td>./data/The Breaks.mp3</td>\n",
       "      <td>1.057499e-07</td>\n",
       "      <td>6.933380e-08</td>\n",
       "      <td>-1.520881e-07</td>\n",
       "      <td>-3.618482e-07</td>\n",
       "      <td>...</td>\n",
       "      <td>2574.581462</td>\n",
       "      <td>2369.193568</td>\n",
       "      <td>5234.249962</td>\n",
       "      <td>0.0987</td>\n",
       "      <td>0.910</td>\n",
       "      <td>0.576</td>\n",
       "      <td>-13.256</td>\n",
       "      <td>0.109</td>\n",
       "      <td>112.877</td>\n",
       "      <td>0.907</td>\n",
       "    </tr>\n",
       "    <tr>\n",
       "      <th>2</th>\n",
       "      <td>8th Wonder</td>\n",
       "      <td>The Sugarhill Gang</td>\n",
       "      <td>4UCkX8nrBlpxjrrEqtb46a</td>\n",
       "      <td>Apache</td>\n",
       "      <td>1981</td>\n",
       "      <td>./data/Apache.mp3</td>\n",
       "      <td>-1.414954e-07</td>\n",
       "      <td>1.606020e-08</td>\n",
       "      <td>-4.006917e-08</td>\n",
       "      <td>-1.196751e-08</td>\n",
       "      <td>...</td>\n",
       "      <td>2535.741911</td>\n",
       "      <td>2907.329677</td>\n",
       "      <td>5791.839284</td>\n",
       "      <td>0.3320</td>\n",
       "      <td>0.827</td>\n",
       "      <td>0.928</td>\n",
       "      <td>-7.266</td>\n",
       "      <td>0.133</td>\n",
       "      <td>115.023</td>\n",
       "      <td>0.261</td>\n",
       "    </tr>\n",
       "    <tr>\n",
       "      <th>3</th>\n",
       "      <td>8th Wonder</td>\n",
       "      <td>The Sugarhill Gang</td>\n",
       "      <td>6m0wOLtrzaNwMofVVJTJqs</td>\n",
       "      <td>8th Wonder</td>\n",
       "      <td>1981</td>\n",
       "      <td>./data/8th Wonder.mp3</td>\n",
       "      <td>3.262833e-07</td>\n",
       "      <td>-1.683564e-08</td>\n",
       "      <td>-7.625627e-08</td>\n",
       "      <td>-1.203945e-07</td>\n",
       "      <td>...</td>\n",
       "      <td>2537.327894</td>\n",
       "      <td>3135.834750</td>\n",
       "      <td>5981.420399</td>\n",
       "      <td>0.2980</td>\n",
       "      <td>0.871</td>\n",
       "      <td>0.937</td>\n",
       "      <td>-8.536</td>\n",
       "      <td>0.195</td>\n",
       "      <td>106.494</td>\n",
       "      <td>0.675</td>\n",
       "    </tr>\n",
       "    <tr>\n",
       "      <th>4</th>\n",
       "      <td>Planet Rock</td>\n",
       "      <td>Afrika Bambaataa</td>\n",
       "      <td>3uy0jtkM8QYVTsBazkli1x</td>\n",
       "      <td>Planet Rock</td>\n",
       "      <td>1982</td>\n",
       "      <td>./data/Planet Rock.mp3</td>\n",
       "      <td>-8.671024e-08</td>\n",
       "      <td>7.907207e-08</td>\n",
       "      <td>-5.019072e-08</td>\n",
       "      <td>-2.139210e-08</td>\n",
       "      <td>...</td>\n",
       "      <td>2803.020324</td>\n",
       "      <td>3522.282559</td>\n",
       "      <td>6855.145450</td>\n",
       "      <td>0.0110</td>\n",
       "      <td>0.915</td>\n",
       "      <td>0.807</td>\n",
       "      <td>-9.636</td>\n",
       "      <td>0.130</td>\n",
       "      <td>127.350</td>\n",
       "      <td>0.708</td>\n",
       "    </tr>\n",
       "  </tbody>\n",
       "</table>\n",
       "<p>5 rows × 41 columns</p>\n",
       "</div>"
      ],
      "text/plain": [
       "                album              artist                      id  \\\n",
       "0  The Sugarhill Gang  The Sugarhill Gang  1FnxNtKli7rcB9IU4J8MEg   \n",
       "1         Kurtis Blow         Kurtis Blow  5TvcggVu3s2P1fMAS8BupX   \n",
       "2          8th Wonder  The Sugarhill Gang  4UCkX8nrBlpxjrrEqtb46a   \n",
       "3          8th Wonder  The Sugarhill Gang  6m0wOLtrzaNwMofVVJTJqs   \n",
       "4         Planet Rock    Afrika Bambaataa  3uy0jtkM8QYVTsBazkli1x   \n",
       "\n",
       "              title  year                         file        mfcc_0  \\\n",
       "0  Rapper's Delight  1980  ./data/Rapper's Delight.mp3  1.890811e-08   \n",
       "1        The Breaks  1980        ./data/The Breaks.mp3  1.057499e-07   \n",
       "2            Apache  1981            ./data/Apache.mp3 -1.414954e-07   \n",
       "3        8th Wonder  1981        ./data/8th Wonder.mp3  3.262833e-07   \n",
       "4       Planet Rock  1982       ./data/Planet Rock.mp3 -8.671024e-08   \n",
       "\n",
       "         mfcc_1        mfcc_2        mfcc_3  ...    bandwidth     centroid  \\\n",
       "0 -3.804202e-07 -2.639254e-07 -6.431760e-08  ...  2932.269422  3271.149826   \n",
       "1  6.933380e-08 -1.520881e-07 -3.618482e-07  ...  2574.581462  2369.193568   \n",
       "2  1.606020e-08 -4.006917e-08 -1.196751e-08  ...  2535.741911  2907.329677   \n",
       "3 -1.683564e-08 -7.625627e-08 -1.203945e-07  ...  2537.327894  3135.834750   \n",
       "4  7.907207e-08 -5.019072e-08 -2.139210e-08  ...  2803.020324  3522.282559   \n",
       "\n",
       "       rolloff  acousticness  danceability  energy  loudness  speechiness  \\\n",
       "0  6835.888420        0.2200         0.905   0.692   -14.143        0.199   \n",
       "1  5234.249962        0.0987         0.910   0.576   -13.256        0.109   \n",
       "2  5791.839284        0.3320         0.827   0.928    -7.266        0.133   \n",
       "3  5981.420399        0.2980         0.871   0.937    -8.536        0.195   \n",
       "4  6855.145450        0.0110         0.915   0.807    -9.636        0.130   \n",
       "\n",
       "     tempo  valence  \n",
       "0  111.292    0.943  \n",
       "1  112.877    0.907  \n",
       "2  115.023    0.261  \n",
       "3  106.494    0.675  \n",
       "4  127.350    0.708  \n",
       "\n",
       "[5 rows x 41 columns]"
      ]
     },
     "execution_count": 4,
     "metadata": {},
     "output_type": "execute_result"
    }
   ],
   "source": [
    "musics.head()"
   ]
  },
  {
   "cell_type": "code",
   "execution_count": 47,
   "metadata": {},
   "outputs": [
    {
     "data": {
      "text/plain": [
       "96"
      ]
     },
     "execution_count": 47,
     "metadata": {},
     "output_type": "execute_result"
    }
   ],
   "source": [
    "# Looking to see if tempo has anything to do with years (i.e. are faster or slower tempos more prevalent in different\n",
    "# time periods)?\n",
    "subsets = musics[['mfcc_0','mfcc_1','mfcc_2','mfcc_3','mfcc_4','mfcc_5','mfcc_6','mfcc_7','mfcc_8','mfcc_9','mfcc_10','mfcc_11']]\n",
    "mfccs = subsets.to_numpy().tolist()\n",
    "# Transpose\n",
    "#mfccs = list(map(list, zip(*mfccs)))\n",
    "len(mfccs)"
   ]
  },
  {
   "cell_type": "code",
   "execution_count": 48,
   "metadata": {},
   "outputs": [
    {
     "data": {
      "text/plain": [
       "array([[ 0.33918171, -3.05832501, -1.49489614, ...,  0.28666662,\n",
       "        -0.48497296, -0.35877237],\n",
       "       [ 0.75924312,  0.73731604, -0.80202625, ...,  0.37689845,\n",
       "        -0.96328863,  1.06748014],\n",
       "       [-0.43670435,  0.28772033, -0.10803129, ...,  0.54414513,\n",
       "         0.18456296,  0.05484957],\n",
       "       ...,\n",
       "       [-1.19725127, -0.06603335, -1.0707499 , ..., -0.53467741,\n",
       "         0.24963307, -1.3221795 ],\n",
       "       [ 0.7598948 ,  0.0913614 ,  1.12827533, ...,  0.05022379,\n",
       "         0.17224166,  0.16088721],\n",
       "       [ 0.62444393,  0.3590464 ,  0.56281946, ...,  0.02416563,\n",
       "         0.24890875,  0.25084443]])"
      ]
     },
     "execution_count": 48,
     "metadata": {},
     "output_type": "execute_result"
    }
   ],
   "source": [
    "#Scale them\n",
    "import sklearn.preprocessing \n",
    "\n",
    "scaler = sklearn.preprocessing.StandardScaler()\n",
    "scaler.fit(mfccs)\n",
    "mfccs_scaled = scaler.transform(mfccs)\n",
    "\n",
    "mfccs_scaled"
   ]
  },
  {
   "cell_type": "code",
   "execution_count": 49,
   "metadata": {},
   "outputs": [
    {
     "data": {
      "text/plain": [
       "array([-8.09537622e-18, -3.23815049e-17, -2.08166817e-17, -5.78241159e-18,\n",
       "       -1.72026745e-17,  8.67361738e-18,  3.90312782e-18, -6.93889390e-18,\n",
       "        1.35886672e-17,  1.35163871e-17,  1.09865820e-17,  7.51713506e-18])"
      ]
     },
     "execution_count": 49,
     "metadata": {},
     "output_type": "execute_result"
    }
   ],
   "source": [
    "#Check to make sure they scaled right\n",
    "mfccs_scaled.mean(axis=0)"
   ]
  },
  {
   "cell_type": "code",
   "execution_count": 50,
   "metadata": {},
   "outputs": [
    {
     "data": {
      "text/plain": [
       "array([1., 1., 1., 1., 1., 1., 1., 1., 1., 1., 1., 1.])"
      ]
     },
     "execution_count": 50,
     "metadata": {},
     "output_type": "execute_result"
    }
   ],
   "source": [
    "mfccs_scaled.std(axis=0)"
   ]
  },
  {
   "cell_type": "code",
   "execution_count": 52,
   "metadata": {},
   "outputs": [
    {
     "data": {
      "text/plain": [
       "0     1980\n",
       "1     1980\n",
       "2     1981\n",
       "3     1981\n",
       "4     1982\n",
       "      ... \n",
       "79    2019\n",
       "78    2019\n",
       "93    2019\n",
       "81    2020\n",
       "80    2020\n",
       "Name: year, Length: 96, dtype: int64"
      ]
     },
     "execution_count": 52,
     "metadata": {},
     "output_type": "execute_result"
    }
   ],
   "source": [
    "features = mfccs_scaled\n",
    "labels = musics['year'].tolis\n",
    "labels"
   ]
  },
  {
   "cell_type": "code",
   "execution_count": null,
   "metadata": {},
   "outputs": [],
   "source": []
  },
  {
   "cell_type": "code",
   "execution_count": 41,
   "metadata": {},
   "outputs": [
    {
     "ename": "ValueError",
     "evalue": "Found input variables with inconsistent numbers of samples: [12, 96]",
     "output_type": "error",
     "traceback": [
      "\u001b[0;31m---------------------------------------------------------------------------\u001b[0m",
      "\u001b[0;31mValueError\u001b[0m                                Traceback (most recent call last)",
      "\u001b[0;32m<ipython-input-41-3a41430bd37c>\u001b[0m in \u001b[0;36m<module>\u001b[0;34m\u001b[0m\n\u001b[0;32m----> 1\u001b[0;31m \u001b[0mmodel\u001b[0m\u001b[0;34m.\u001b[0m\u001b[0mfit\u001b[0m\u001b[0;34m(\u001b[0m\u001b[0mfeatures\u001b[0m\u001b[0;34m,\u001b[0m \u001b[0mlabels\u001b[0m\u001b[0;34m)\u001b[0m\u001b[0;34m\u001b[0m\u001b[0;34m\u001b[0m\u001b[0m\n\u001b[0m",
      "\u001b[0;32m~/anaconda3/lib/python3.7/site-packages/sklearn/svm/_base.py\u001b[0m in \u001b[0;36mfit\u001b[0;34m(self, X, y, sample_weight)\u001b[0m\n\u001b[1;32m    146\u001b[0m         X, y = check_X_y(X, y, dtype=np.float64,\n\u001b[1;32m    147\u001b[0m                          \u001b[0morder\u001b[0m\u001b[0;34m=\u001b[0m\u001b[0;34m'C'\u001b[0m\u001b[0;34m,\u001b[0m \u001b[0maccept_sparse\u001b[0m\u001b[0;34m=\u001b[0m\u001b[0;34m'csr'\u001b[0m\u001b[0;34m,\u001b[0m\u001b[0;34m\u001b[0m\u001b[0;34m\u001b[0m\u001b[0m\n\u001b[0;32m--> 148\u001b[0;31m                          accept_large_sparse=False)\n\u001b[0m\u001b[1;32m    149\u001b[0m         \u001b[0my\u001b[0m \u001b[0;34m=\u001b[0m \u001b[0mself\u001b[0m\u001b[0;34m.\u001b[0m\u001b[0m_validate_targets\u001b[0m\u001b[0;34m(\u001b[0m\u001b[0my\u001b[0m\u001b[0;34m)\u001b[0m\u001b[0;34m\u001b[0m\u001b[0;34m\u001b[0m\u001b[0m\n\u001b[1;32m    150\u001b[0m \u001b[0;34m\u001b[0m\u001b[0m\n",
      "\u001b[0;32m~/anaconda3/lib/python3.7/site-packages/sklearn/utils/validation.py\u001b[0m in \u001b[0;36mcheck_X_y\u001b[0;34m(X, y, accept_sparse, accept_large_sparse, dtype, order, copy, force_all_finite, ensure_2d, allow_nd, multi_output, ensure_min_samples, ensure_min_features, y_numeric, warn_on_dtype, estimator)\u001b[0m\n\u001b[1;32m    763\u001b[0m         \u001b[0my\u001b[0m \u001b[0;34m=\u001b[0m \u001b[0my\u001b[0m\u001b[0;34m.\u001b[0m\u001b[0mastype\u001b[0m\u001b[0;34m(\u001b[0m\u001b[0mnp\u001b[0m\u001b[0;34m.\u001b[0m\u001b[0mfloat64\u001b[0m\u001b[0;34m)\u001b[0m\u001b[0;34m\u001b[0m\u001b[0;34m\u001b[0m\u001b[0m\n\u001b[1;32m    764\u001b[0m \u001b[0;34m\u001b[0m\u001b[0m\n\u001b[0;32m--> 765\u001b[0;31m     \u001b[0mcheck_consistent_length\u001b[0m\u001b[0;34m(\u001b[0m\u001b[0mX\u001b[0m\u001b[0;34m,\u001b[0m \u001b[0my\u001b[0m\u001b[0;34m)\u001b[0m\u001b[0;34m\u001b[0m\u001b[0;34m\u001b[0m\u001b[0m\n\u001b[0m\u001b[1;32m    766\u001b[0m \u001b[0;34m\u001b[0m\u001b[0m\n\u001b[1;32m    767\u001b[0m     \u001b[0;32mreturn\u001b[0m \u001b[0mX\u001b[0m\u001b[0;34m,\u001b[0m \u001b[0my\u001b[0m\u001b[0;34m\u001b[0m\u001b[0;34m\u001b[0m\u001b[0m\n",
      "\u001b[0;32m~/anaconda3/lib/python3.7/site-packages/sklearn/utils/validation.py\u001b[0m in \u001b[0;36mcheck_consistent_length\u001b[0;34m(*arrays)\u001b[0m\n\u001b[1;32m    210\u001b[0m     \u001b[0;32mif\u001b[0m \u001b[0mlen\u001b[0m\u001b[0;34m(\u001b[0m\u001b[0muniques\u001b[0m\u001b[0;34m)\u001b[0m \u001b[0;34m>\u001b[0m \u001b[0;36m1\u001b[0m\u001b[0;34m:\u001b[0m\u001b[0;34m\u001b[0m\u001b[0;34m\u001b[0m\u001b[0m\n\u001b[1;32m    211\u001b[0m         raise ValueError(\"Found input variables with inconsistent numbers of\"\n\u001b[0;32m--> 212\u001b[0;31m                          \" samples: %r\" % [int(l) for l in lengths])\n\u001b[0m\u001b[1;32m    213\u001b[0m \u001b[0;34m\u001b[0m\u001b[0m\n\u001b[1;32m    214\u001b[0m \u001b[0;34m\u001b[0m\u001b[0m\n",
      "\u001b[0;31mValueError\u001b[0m: Found input variables with inconsistent numbers of samples: [12, 96]"
     ]
    }
   ],
   "source": []
  },
  {
   "cell_type": "code",
   "execution_count": null,
   "metadata": {},
   "outputs": [],
   "source": []
  }
 ],
 "metadata": {
  "kernelspec": {
   "display_name": "Python 3",
   "language": "python",
   "name": "python3"
  },
  "language_info": {
   "codemirror_mode": {
    "name": "ipython",
    "version": 3
   },
   "file_extension": ".py",
   "mimetype": "text/x-python",
   "name": "python",
   "nbconvert_exporter": "python",
   "pygments_lexer": "ipython3",
   "version": "3.7.1"
  }
 },
 "nbformat": 4,
 "nbformat_minor": 2
}
